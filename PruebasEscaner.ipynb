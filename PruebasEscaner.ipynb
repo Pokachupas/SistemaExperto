{
 "cells": [
  {
   "cell_type": "markdown",
   "metadata": {},
   "source": [
    "## Analizador Lexico\n",
    "Un analizador lexico transforma una entrada en tokens"
   ]
  },
  {
   "cell_type": "code",
   "execution_count": null,
   "metadata": {},
   "outputs": [],
   "source": [
    "entrada = \"Si es de dia entonces mañana no es de noche\""
   ]
  },
  {
   "cell_type": "code",
   "execution_count": 4,
   "metadata": {},
   "outputs": [
    {
     "data": {
      "text/plain": [
       "['si',\n",
       " 'si',\n",
       " 'es',\n",
       " 'de',\n",
       " 'dia',\n",
       " 'entonces',\n",
       " 'mañana',\n",
       " 'no',\n",
       " 'es',\n",
       " 'de',\n",
       " 'noche']"
      ]
     },
     "execution_count": 4,
     "metadata": {},
     "output_type": "execute_result"
    }
   ],
   "source": [
    "tokens = entrada.lower().split()\n",
    "tokens"
   ]
  },
  {
   "cell_type": "code",
   "execution_count": 5,
   "metadata": {},
   "outputs": [],
   "source": [
    "from enum import Enum\n",
    "\n",
    "class TipoToken(Enum):\n",
    "    O = 1\n",
    "    Y = 2\n",
    "    S = 3\n",
    "    N = 4\n",
    "    E = 5\n",
    "    P = 6"
   ]
  },
  {
   "cell_type": "code",
   "execution_count": 10,
   "metadata": {
    "vscode": {
     "languageId": "javascript"
    }
   },
   "outputs": [
    {
     "data": {
      "text/plain": [
       "[{'valor': 'si', 'tipo': <TipoToken.S: 3>},\n",
       " {'valor': 'si', 'tipo': <TipoToken.S: 3>},\n",
       " {'valor': 'es', 'tipo': <TipoToken.P: 6>},\n",
       " {'valor': 'de', 'tipo': <TipoToken.P: 6>},\n",
       " {'valor': 'dia', 'tipo': <TipoToken.P: 6>},\n",
       " {'valor': 'entonces', 'tipo': <TipoToken.E: 5>},\n",
       " {'valor': 'mañana', 'tipo': <TipoToken.P: 6>},\n",
       " {'valor': 'no', 'tipo': <TipoToken.N: 4>},\n",
       " {'valor': 'es', 'tipo': <TipoToken.P: 6>},\n",
       " {'valor': 'de', 'tipo': <TipoToken.P: 6>},\n",
       " {'valor': 'noche', 'tipo': <TipoToken.P: 6>}]"
      ]
     },
     "execution_count": 10,
     "metadata": {},
     "output_type": "execute_result"
    }
   ],
   "source": [
    "lexemas = []\n",
    "for token in tokens:\n",
    "    if token == 'o':\n",
    "        lexemas.append({\"valor\" : token , \"tipo\": TipoToken.O })\n",
    "    elif token == 'y':\n",
    "        lexemas.append({\"valor\" : token , \"tipo\": TipoToken.Y})\n",
    "    elif token == 'si':\n",
    "        lexemas.append({\"valor\" : token , \"tipo\": TipoToken.S})\n",
    "    elif token == 'entonces':\n",
    "        lexemas.append({\"valor\" : token , \"tipo\": TipoToken.E})\n",
    "    elif token == 'no':\n",
    "        lexemas.append({\"valor\" : token , \"tipo\": TipoToken.N})\n",
    "    else :\n",
    "        lexemas.append({\"valor\" :token , \"tipo\": TipoToken.P })\n",
    "        \n",
    "lexemas"
   ]
  },
  {
   "cell_type": "code",
   "execution_count": null,
   "metadata": {
    "vscode": {
     "languageId": "javascript"
    }
   },
   "outputs": [],
   "source": []
  },
  {
   "cell_type": "markdown",
   "metadata": {},
   "source": [
    "## Analizador Sintactico"
   ]
  },
  {
   "cell_type": "markdown",
   "metadata": {},
   "source": []
  },
  {
   "cell_type": "code",
   "execution_count": 11,
   "metadata": {},
   "outputs": [],
   "source": [
    "class EstadosAnalizador(Enum):\n",
    "    INICIO = 1\n",
    "    CONDICIONAL = 2\n",
    "    PRECEDENTE = 3\n",
    "    ERROR = 4\n",
    "    NEGACION_i = 5\n",
    "    NEGACION_s = 6\n",
    "    NEGACION_y = 7\n",
    "    NEGACION_o = 8\n",
    "    NEGACION_e = 9\n",
    "    CONECTOR = 10\n",
    "    CONSECUENTE = 11\n",
    "    ATOMO = 12\n",
    "    DISYUNCION = 13\n",
    "    ATOMOD = 14\n",
    "    ATOMOC = 15\n",
    "    CONJUNCION = 16\n",
    "    FIN = 17"
   ]
  },
  {
   "cell_type": "code",
   "execution_count": 12,
   "metadata": {},
   "outputs": [],
   "source": [
    "EstadoActual = EstadosAnalizador.INICIO\n",
    "\n",
    "for lexema in lexemas:\n",
    "    #Estado INICIO\n",
    "    if EstadoActual == EstadosAnalizador.INICIO:\n",
    "        if lexema == \"si\":\n",
    "            EstadoActual = EstadosAnalizador.CONDICIONAL\n",
    "        elif lexema == \"no\":\n",
    "            EstadosActual = EstadosAnalizador.NEGACION_i\n",
    "        elif lexema == \"y\" or lexema == \"o\" or lexema == \"entonces\":\n",
    "            EstadoActual = EstadosAnalizador.ERROR\n",
    "        else:\n",
    "            EstadoActual = EstadosAnalizador.ATOMO\n",
    "    #Estado NEGACION_i\n",
    "    elif EstadoActual == EstadosAnalizador.NEGACION_i:\n",
    "        if lexema == \"si\" or lexema == \"y\" or lexema == \"o\" or lexema == \"entonces\" or lexema == \"no\":\n",
    "            EstadoActual = EstadosAnalizador.ERROR\n",
    "        else:\n",
    "            EstadoActual = EstadosAnalizador.ATOMO\n",
    "    #Estado ATOMO\n",
    "    elif EstadoActual == EstadosAnalizador.ATOMO:\n",
    "        if lexema == \"no\" or lexema == \"entonces\" or lexema == \"si\":\n",
    "            EstadoActual = EstadosAnalizador.ERROR\n",
    "        elif lexema == \"y\":\n",
    "            EstadoActual = EstadosAnalizador.CONJUNCION\n",
    "        elif lexema == \"o\":\n",
    "            EstadoActual = EstadosAnalizador.DISYUNCION\n",
    "        else:\n",
    "            EstadoActual = EstadosAnalizador.ATOMO\n",
    "    #Estado CONDICIONAL\n",
    "    elif EstadoActual == EstadosAnalizador.CONDICIONAL:\n",
    "        if lexema == \"no\":\n",
    "            EstadoActual = EstadosAnalizador.NEGACION_s\n",
    "        elif lexema == \"entonces\" or lexema == \"y\" or lexema == \"o\":\n",
    "            EstadoActual = EstadosAnalizador.ERROR\n",
    "        else:\n",
    "            EstadoActual = EstadosAnalizador.PRECEDENTE\n",
    "    #Estado NEGACION_s\n",
    "    elif EstadoActual == EstadosAnalizador.NEGACION_s:\n",
    "        if lexema == \"y\" or lexema == \"o\" or lexema == \"entonces\" or lexema == \"si\":\n",
    "            EstadoActual = EstadosAnalizador.ERROR\n",
    "        else:\n",
    "            EstadoActual = EstadosAnalizador.PRECEDENTE\n",
    "    #Estado PRECEDENTE\n",
    "    elif EstadoActual == EstadosAnalizador.PRECEDENTE:\n",
    "        if lexema == \"entonces\":\n",
    "            EstadoActual == EstadosAnalizador.CONECTOR\n",
    "        elif lexema == \"no\" or lexema == \"y\" or lexema == \"o\":\n",
    "            EstadoActual = EstadosAnalizador.ERROR\n",
    "        else:\n",
    "            EstadoActual = EstadosAnalizador.PRECEDENTE\n",
    "    #Estado CONECTOR\n",
    "    elif EstadoActual == EstadosAnalizador.CONECTOR:\n",
    "        if lexema == \"y\" or lexema == \"o\" or lexema ==\"si\" or lexema == \"entonces\":\n",
    "            EstadoActual = EstadosAnalizador.ERROR\n",
    "        elif lexema == \"no\":\n",
    "            EstadoActual = EstadosAnalizador.NEGACION_e\n",
    "        else:\n",
    "            EstadoActual = EstadosAnalizador.CONSECUENTE\n",
    "\n",
    "    elif EstadoActual == EstadosAnalizador.CONSECUENTE:\n",
    "        if lexema == \"entonces\" or lexema == \"si\" or lexema == \"y\" or lexema == \"no\":\n",
    "            EstadoActual = EstadosAnalizador.ERROR\n",
    "        else:\n",
    "            EstadoActual = EstadosAnalizador.CONSECUENTE\n",
    "\n",
    "    elif EstadoActual == EstadosAnalizador.CONJUNCION:\n",
    "        if lexema == \"de\":\n",
    "            EstadoActual = EstadosAnalizador.ATOMO\n",
    "        else:\n",
    "            EstadoActual = EstadosAnalizador.ERROR\n",
    "    elif EstadoActual == EstadosAnalizador.DISYUNCION:\n",
    "        if lexema == \"de\":\n",
    "            EstadoActual = EstadosAnalizador.ATOMO\n",
    "        else:\n",
    "            EstadoActual = EstadosAnalizador.ERROR\n",
    "\n",
    "    elif EstadoActual == EstadosAnalizador.ERROR:\n",
    "        print(\"Tu proposición está mal escrita, puñetin\")\n",
    "        break\n",
    "    elif EstadoActual == EstadosAnalizador.FIN:\n",
    "        break"
   ]
  },
  {
   "cell_type": "code",
   "execution_count": 13,
   "metadata": {},
   "outputs": [
    {
     "name": "stdout",
     "output_type": "stream",
     "text": [
      "EstadosAnalizador.ERROR1\n"
     ]
    }
   ],
   "source": [
    "print(EstadoActual)"
   ]
  },
  {
   "cell_type": "code",
   "execution_count": null,
   "metadata": {},
   "outputs": [],
   "source": []
  }
 ],
 "metadata": {
  "kernelspec": {
   "display_name": ".venv",
   "language": "python",
   "name": "python3"
  },
  "language_info": {
   "codemirror_mode": {
    "name": "ipython",
    "version": 3
   },
   "file_extension": ".py",
   "mimetype": "text/x-python",
   "name": "python",
   "nbconvert_exporter": "python",
   "pygments_lexer": "ipython3",
   "version": "3.11.8"
  }
 },
 "nbformat": 4,
 "nbformat_minor": 2
}
