{
 "cells": [
  {
   "cell_type": "markdown",
   "metadata": {},
   "source": [
    "## Analizador Lexico\n",
    "Un analizador lexico transforma una entrada en tokens"
   ]
  },
  {
   "cell_type": "code",
   "execution_count": 91,
   "metadata": {},
   "outputs": [],
   "source": [
    "entrada = \"Es de dia o no  es de noche\""
   ]
  },
  {
   "cell_type": "code",
   "execution_count": 92,
   "metadata": {},
   "outputs": [
    {
     "data": {
      "text/plain": [
       "['es', 'de', 'dia', 'o', 'no', 'es', 'de', 'noche']"
      ]
     },
     "execution_count": 92,
     "metadata": {},
     "output_type": "execute_result"
    }
   ],
   "source": [
    "tokens = entrada.lower().split()\n",
    "tokens"
   ]
  },
  {
   "cell_type": "code",
   "execution_count": 93,
   "metadata": {},
   "outputs": [],
   "source": [
    "from enum import Enum\n",
    "\n",
    "class TipoToken(Enum):\n",
    "    O = 1\n",
    "    Y = 2\n",
    "    S = 3\n",
    "    N = 4\n",
    "    E = 5\n",
    "    P = 6"
   ]
  },
  {
   "cell_type": "code",
   "execution_count": 94,
   "metadata": {
    "vscode": {
     "languageId": "javascript"
    }
   },
   "outputs": [
    {
     "data": {
      "text/plain": [
       "[{'valor': 'es', 'tipo': <TipoToken.P: 6>},\n",
       " {'valor': 'de', 'tipo': <TipoToken.P: 6>},\n",
       " {'valor': 'dia', 'tipo': <TipoToken.P: 6>},\n",
       " {'valor': 'o', 'tipo': <TipoToken.O: 1>},\n",
       " {'valor': 'no', 'tipo': <TipoToken.N: 4>},\n",
       " {'valor': 'es', 'tipo': <TipoToken.P: 6>},\n",
       " {'valor': 'de', 'tipo': <TipoToken.P: 6>},\n",
       " {'valor': 'noche', 'tipo': <TipoToken.P: 6>}]"
      ]
     },
     "execution_count": 94,
     "metadata": {},
     "output_type": "execute_result"
    }
   ],
   "source": [
    "lexemas = []\n",
    "for token in tokens:\n",
    "    if token == 'o':\n",
    "        lexemas.append({\"valor\" : token , \"tipo\": TipoToken.O })\n",
    "    elif token == 'y':\n",
    "        lexemas.append({\"valor\" : token , \"tipo\": TipoToken.Y})\n",
    "    elif token == 'si':\n",
    "        lexemas.append({\"valor\" : token , \"tipo\": TipoToken.S})\n",
    "    elif token == 'entonces':\n",
    "        lexemas.append({\"valor\" : token , \"tipo\": TipoToken.E})\n",
    "    elif token == 'no':\n",
    "        lexemas.append({\"valor\" : token , \"tipo\": TipoToken.N})\n",
    "    else :\n",
    "        lexemas.append({\"valor\" :token , \"tipo\": TipoToken.P })\n",
    "        \n",
    "lexemas"
   ]
  },
  {
   "cell_type": "markdown",
   "metadata": {},
   "source": [
    "## Analizador Sintactico"
   ]
  },
  {
   "cell_type": "markdown",
   "metadata": {},
   "source": []
  },
  {
   "cell_type": "code",
   "execution_count": 95,
   "metadata": {},
   "outputs": [],
   "source": [
    "class EstadosAnalizador(Enum):\n",
    "    INICIO = 1\n",
    "    CONDICIONAL = 2\n",
    "    PRECEDENTE = 3\n",
    "    ERROR = 4\n",
    "    NEGACION_i = 5\n",
    "    NEGACION_f = 6\n",
    "    NEGACION_s = 7\n",
    "    CONECTOR = 8\n",
    "    ATOMO = 9\n",
    "    DISYUNCION = 10\n",
    "    ATOMOF = 11\n",
    "    CONJUNCION = 12"
   ]
  },
  {
   "cell_type": "code",
   "execution_count": 96,
   "metadata": {},
   "outputs": [
    {
     "name": "stdout",
     "output_type": "stream",
     "text": [
      "ATOMO\n",
      "ATOMO\n",
      "ATOMO\n"
     ]
    }
   ],
   "source": [
    "\n",
    "EstadoActual = EstadosAnalizador.INICIO\n",
    "#print(lexemas)\n",
    "for l in lexemas:\n",
    "    #Estado INICIO\n",
    "    lexema = l[\"valor\"]\n",
    "    #if lexema == \"entonces\":\n",
    "     #   print(\"Hola\")\n",
    "    if EstadoActual == EstadosAnalizador.INICIO:\n",
    "        #print(\"INICIO\")\n",
    "        if lexema == \"si\":\n",
    "            EstadoActual = EstadosAnalizador.CONDICIONAL\n",
    "        elif lexema == \"no\":\n",
    "            EstadosActual = EstadosAnalizador.NEGACION_i\n",
    "        elif lexema == \"y\" or lexema == \"o\" or lexema == \"entonces\":\n",
    "            EstadoActual = EstadosAnalizador.ERROR\n",
    "        else:\n",
    "            EstadoActual = EstadosAnalizador.ATOMO\n",
    "    #Estado NEGACION_i\n",
    "    elif EstadoActual == EstadosAnalizador.NEGACION_i:\n",
    "        #print(\"NEGACION_i\")\n",
    "        if lexema == \"si\" or lexema == \"y\" or lexema == \"o\" or lexema == \"entonces\" or lexema == \"no\":\n",
    "            EstadoActual = EstadosAnalizador.ERROR\n",
    "        else:\n",
    "            EstadoActual = EstadosAnalizador.ATOMO\n",
    "    #Estado ATOMO\n",
    "    elif EstadoActual == EstadosAnalizador.ATOMO:\n",
    "        #print(\"ATOMO\")\n",
    "        if lexema == \"no\" or lexema == \"entonces\" or lexema == \"si\":\n",
    "            EstadoActual = EstadosAnalizador.ERROR\n",
    "        elif lexema == \"y\":\n",
    "            EstadoActual = EstadosAnalizador.CONJUNCION\n",
    "        elif lexema == \"o\":\n",
    "            EstadoActual = EstadosAnalizador.DISYUNCION\n",
    "        else:\n",
    "            EstadoActual = EstadosAnalizador.ATOMO\n",
    "    #Estado CONDICIONAL\n",
    "    elif EstadoActual == EstadosAnalizador.CONDICIONAL:\n",
    "        #print(\"CONDICIONAL\")\n",
    "        if lexema == \"no\":\n",
    "            EstadoActual = EstadosAnalizador.NEGACION_s\n",
    "        elif lexema == \"entonces\" or lexema == \"y\" or lexema == \"o\" or lexema == \"si\":\n",
    "            EstadoActual = EstadosAnalizador.ERROR\n",
    "        else:\n",
    "            EstadoActual = EstadosAnalizador.PRECEDENTE\n",
    "    #Estado NEGACION_s\n",
    "    elif EstadoActual == EstadosAnalizador.NEGACION_s:\n",
    "        #print(\"NEGACION_s\")\n",
    "        if lexema == \"y\" or lexema == \"o\" or lexema == \"entonces\" or lexema == \"si\" or lexema == \"no\":\n",
    "            EstadoActual = EstadosAnalizador.ERROR\n",
    "        else:\n",
    "            EstadoActual = EstadosAnalizador.PRECEDENTE\n",
    "    #Estado PRECEDENTE\n",
    "    elif EstadoActual == EstadosAnalizador.PRECEDENTE:\n",
    "        #print(\"PRECEDENTE\")\n",
    "        if lexema == \"entonces\":\n",
    "            EstadoActual = EstadosAnalizador.CONECTOR\n",
    "        elif lexema == \"no\" or lexema == \"y\" or lexema == \"o\" or lexema == \"si\":\n",
    "            EstadoActual = EstadosAnalizador.ERROR\n",
    "        else:\n",
    "            EstadoActual = EstadosAnalizador.PRECEDENTE\n",
    "    #Estado CONECTOR\n",
    "    elif EstadoActual == EstadosAnalizador.CONECTOR:\n",
    "        #print(\"CONECTOR\")\n",
    "        if lexema == \"y\" or lexema == \"o\" or lexema ==\"si\" or lexema == \"entonces\":\n",
    "            EstadoActual = EstadosAnalizador.ERROR\n",
    "        elif lexema == \"no\":\n",
    "            EstadoActual = EstadosAnalizador.NEGACION_f\n",
    "        else:\n",
    "            EstadoActual = EstadosAnalizador.ATOMOF\n",
    "    #Esatdo NEGACION_f\n",
    "    elif EstadoActual == EstadosAnalizador.NEGACION_f:\n",
    "        #print(\"NEGACION_f\")\n",
    "        if lexema == \"y\" or lexema == \"o\" or lexema == \"si\" or lexema == \"entonces\" or lexema == \"no\":\n",
    "            EstadoActual = EstadosAnalizador.ERROR\n",
    "        else:\n",
    "            EstadoActual = EstadosAnalizador.ATOMOF\n",
    "    #Estado CONJUNCION\n",
    "    elif EstadoActual == EstadosAnalizador.CONJUNCION:\n",
    "        #print(\"CONJUNCION\")\n",
    "        if lexema == \"entonces\" or lexema == \"si\" or lexema == \"o\" or lexema == \"y\":\n",
    "            EstadoActual = EstadosAnalizador.ERROR\n",
    "        elif lexema == \"no\":\n",
    "            EstadoActual = EstadosAnalizador.NEGACION_f\n",
    "        else:\n",
    "            EstadoActual = EstadosAnalizador.ATOMOF\n",
    "    #Estado DISYUNCION\n",
    "    elif EstadoActual == EstadosAnalizador.DISYUNCION:\n",
    "        #print(\"DISYUNCION\")\n",
    "        if lexema == \"y\" or lexema == \"o\" or lexema == \"si\" or lexema == \"entonces\":\n",
    "            EstadoActual = EstadosAnalizador.ERROR\n",
    "        elif lexema == \"no\":\n",
    "            EstadoActual = EstadosAnalizador.NEGACION_f\n",
    "        else:\n",
    "            EstadoActual = EstadosAnalizador.ATOMOF\n",
    "    #Estado ATOMOF\n",
    "    elif EstadoActual == EstadosAnalizador.ATOMOF:\n",
    "        #print(\"AOTMOF\")\n",
    "        if lexema == \"y\" or lexema == \"o\" or lexema == \"si\" or lexema == \"entonces\" or lexema == \"no\":\n",
    "            EstadoActual = EstadosAnalizador.ERROR\n",
    "        else:\n",
    "            EstadoActual = EstadosAnalizador.ATOMOF\n",
    "    elif EstadoActual == EstadosAnalizador.ERROR:\n",
    "        print(\"Tu proposición está mal escrita, puñetin\")\n",
    "        break"
   ]
  },
  {
   "cell_type": "code",
   "execution_count": 97,
   "metadata": {},
   "outputs": [
    {
     "name": "stdout",
     "output_type": "stream",
     "text": [
      "EstadosAnalizador.ATOMOF\n"
     ]
    }
   ],
   "source": [
    "print(EstadoActual)"
   ]
  },
  {
   "cell_type": "code",
   "execution_count": null,
   "metadata": {},
   "outputs": [],
   "source": []
  }
 ],
 "metadata": {
  "kernelspec": {
   "display_name": ".venv",
   "language": "python",
   "name": "python3"
  },
  "language_info": {
   "codemirror_mode": {
    "name": "ipython",
    "version": 3
   },
   "file_extension": ".py",
   "mimetype": "text/x-python",
   "name": "python",
   "nbconvert_exporter": "python",
   "pygments_lexer": "ipython3",
   "version": "3.10.13"
  }
 },
 "nbformat": 4,
 "nbformat_minor": 2
}
